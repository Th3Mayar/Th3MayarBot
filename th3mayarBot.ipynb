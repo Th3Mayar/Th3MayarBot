{
  "nbformat": 4,
  "nbformat_minor": 0,
  "metadata": {
    "colab": {
      "provenance": [],
      "authorship_tag": "ABX9TyOVcTvD5/tChlJRY1Z0DLE8",
      "include_colab_link": true
    },
    "kernelspec": {
      "name": "python3",
      "display_name": "Python 3"
    },
    "language_info": {
      "name": "python"
    }
  },
  "cells": [
    {
      "cell_type": "markdown",
      "metadata": {
        "id": "view-in-github",
        "colab_type": "text"
      },
      "source": [
        "<a href=\"https://colab.research.google.com/github/Th3Mayar/Th3MayarBot/blob/main/th3mayarBot.ipynb\" target=\"_parent\"><img src=\"https://colab.research.google.com/assets/colab-badge.svg\" alt=\"Open In Colab\"/></a>"
      ]
    },
    {
      "cell_type": "markdown",
      "source": [
        "## Install dependencies to development Gemini chatbot"
      ],
      "metadata": {
        "id": "dkEG-xC2hTSf"
      }
    },
    {
      "cell_type": "code",
      "source": [
        "# Install google-cloud and others services\n",
        "!pip install google-cloud-dialogflow\n",
        "!pip install google-cloud"
      ],
      "metadata": {
        "id": "btZXmEJPhb5e"
      },
      "execution_count": null,
      "outputs": []
    },
    {
      "cell_type": "markdown",
      "source": [
        "## Import os and others librearies to project ☁"
      ],
      "metadata": {
        "id": "VeE8-DVZhjhH"
      }
    },
    {
      "cell_type": "code",
      "source": [
        "import os # Import library os system\n",
        "from google.cloud import dialogflow_v2 as dialogflow\n",
        "import uuid"
      ],
      "metadata": {
        "id": "WS9f-2hxho59"
      },
      "execution_count": null,
      "outputs": []
    },
    {
      "cell_type": "markdown",
      "source": [
        "## Add Credentials API KEY to my project and Import Os library"
      ],
      "metadata": {
        "id": "OtyBx1pGhyae"
      }
    },
    {
      "cell_type": "code",
      "source": [
        "# API Key from Gemini\n",
        "os.environ[\"YourCredentialAPIKey\"] = \"/Content/Api/YourCredentialService.json\""
      ],
      "metadata": {
        "id": "f3ZoX5VZhzSW"
      },
      "execution_count": null,
      "outputs": []
    },
    {
      "cell_type": "markdown",
      "source": [
        "## Config Project"
      ],
      "metadata": {
        "id": "cNrSCkzfh3lP"
      }
    },
    {
      "cell_type": "code",
      "source": [
        "project_id = \"id_your_project_google_cloud_console\" ## Your Project ID\n",
        "location = \"global\" # Location by configuration project\n",
        "session_id = str(uuid.uuid4())\n",
        "session_client = dialogflow.SessionsClient()\n",
        "session = session_client.session_path(project_id, session_id)"
      ],
      "metadata": {
        "id": "kJXONPNnh542"
      },
      "execution_count": null,
      "outputs": []
    },
    {
      "cell_type": "markdown",
      "source": [
        "## Defining the funtion to get the answers"
      ],
      "metadata": {
        "id": "KVhoSsX1jj6p"
      }
    },
    {
      "cell_type": "code",
      "source": [
        "def get_Response(query): # Funtion to get reponse by user\n",
        "    text_input = dialogflow.TextInput(text=query, language_code=\"es\")\n",
        "    query_input = dialogflow.QueryInput(text=text_input)\n",
        "    response = session_client.detect_intent(session=session, query_input=query_input)\n",
        "    return response.query_result.fulfillment_text"
      ],
      "metadata": {
        "id": "qqYp3Hhzjvx9"
      },
      "execution_count": null,
      "outputs": []
    },
    {
      "cell_type": "markdown",
      "source": [
        "## Exasmple by use"
      ],
      "metadata": {
        "id": "B-ZqJLVhjzyt"
      }
    },
    {
      "cell_type": "code",
      "source": [
        "query = \"Hello Th3MayarBot, How are you?\"\n",
        "response_query = get_Response(query)\n",
        "print(\"Th3MayarBot:\", response_query)"
      ],
      "metadata": {
        "id": "Vd--7pWBj2-t"
      },
      "execution_count": null,
      "outputs": []
    },
    {
      "cell_type": "markdown",
      "source": [
        "## For continuos iteration"
      ],
      "metadata": {
        "id": "c1KDw34fkL32"
      }
    },
    {
      "cell_type": "code",
      "source": [
        "while True:\n",
        "    query = input(\"You: \")\n",
        "    if query.lower() in ['go out', 'bye', 'exit']:\n",
        "        print(\"Th3MayarBot: Bye!\")\n",
        "        break\n",
        "    reponse_query = get_Response(query)\n",
        "    print(\"Th3MayarBot:\", reponse_query)"
      ],
      "metadata": {
        "id": "E7zxxDb8kSBm"
      },
      "execution_count": null,
      "outputs": []
    },
    {
      "cell_type": "markdown",
      "source": [
        "#### PD: Is required add package google-cloud-dialogflow on your around"
      ],
      "metadata": {
        "id": "P_EErC13pYz2"
      }
    },
    {
      "cell_type": "markdown",
      "source": [
        "⚓ Created by: Jose Fco. Henriquez (Th3Mayar) ✴"
      ],
      "metadata": {
        "id": "TNCi4Szopoc2"
      }
    }
  ]
}